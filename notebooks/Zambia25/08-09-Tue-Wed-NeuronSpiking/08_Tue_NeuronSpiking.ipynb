{
  "nbformat": 4,
  "nbformat_minor": 0,
  "metadata": {
    "colab": {
      "provenance": [],
      "include_colab_link": true
    },
    "kernelspec": {
      "name": "python3",
      "display_name": "Python 3"
    },
    "language_info": {
      "name": "python"
    }
  },
  "cells": [
    {
      "cell_type": "markdown",
      "metadata": {
        "id": "view-in-github",
        "colab_type": "text"
      },
      "source": [
        "<a href=\"https://colab.research.google.com/github/kkipngenokoech/TReND-CaMinA-Zambia/blob/kip/notebooks/Zambia25/08-09-Tue-Wed-NeuronSpiking/08_Tue_NeuronSpiking.ipynb\" target=\"_parent\"><img src=\"https://colab.research.google.com/assets/colab-badge.svg\" alt=\"Open In Colab\"/></a>"
      ]
    },
    {
      "cell_type": "markdown",
      "source": [
        "<img align=\"left\" width=\"300\" src=\"https://raw.githubusercontent.com/trendinafrica/TReND-CaMinA/main/images/CaMinA_logo.png\">\n",
        "\n",
        "\n",
        "<br>\n",
        "\n",
        "# **TReND-CaMinA 2025: Neuron spiking**\n",
        "\n",
        "\n",
        "**Content creator:** Artemis Koumoundourou\n",
        "\n",
        "**Acknowledgements:** Maxime Zimmermann for his support with *Spikeling*\n"
      ],
      "metadata": {
        "id": "4ybnBct4t9iP"
      }
    },
    {
      "cell_type": "markdown",
      "source": [
        "---\n",
        "# 🔬 **Introduction: Exploring How Neurons Encode Information**\n",
        "\n",
        "\n",
        "Welcome to this hands-on neuroscience session! Today, we'll explore how neurons encode and transmit information using spikes or action potentials — the brain’s communication signals.\n",
        "\n",
        "To do this, we’ll use **Spikeling**, a simple, open-source in-silico neuron that allows to study neuronal activity (https://github.com/OpenSourceNeuro/Spikeling-V2). With Spikeling, we can generate action potentials, manipulate firing patterns, and visualize neuronal responses to different stimuli — all in real time.\n",
        "\n",
        "\n",
        "Our goals today are to:\n",
        "\n",
        "- Understand what an **action potential** is and how it is triggered.\n",
        "\n",
        "- Explore different **spiking patterns** and how they encode information.\n",
        "\n",
        "- Investigate **variability in neural responses** and what it tells us about brain function.\n",
        "\n",
        "- See how neurons respond to **stimulus intensity** and how this is captured in **tuning curves**.\n",
        "\n",
        "- Learn how **neural populations** work together to represent stimuli.\n",
        "\n",
        "- Get a first look at **calcium imaging** as an alternative method to study neural activity.\n",
        "\n",
        "\n",
        "By the end of the session, you’ll have a deeper appreciation of how neurons operate, how we can record and interpret their activity, and how computational tools help us make sense of this complexity."
      ],
      "metadata": {
        "id": "ttctoE08Itgu"
      }
    },
    {
      "cell_type": "markdown",
      "source": [
        "---\n",
        "# **🔍 1. What is an Action Potential?**\n",
        "\n",
        "An **action potential** is a rapid, temporary change in a neuron's membrane potential that allows it to transmit electrical signals along its axon. Triggered by a stimulus, this signal follows distinct phases—**depolarization, repolarization, and hyperpolarization**—which result from the movement of ions across the cell membrane.\n",
        "\n",
        "\n",
        "<br>\n",
        "\n",
        "📝 **Activity**\n",
        "\n",
        "- Connect your Spikelings and open the GUI\n",
        "- Set the Spikeling to Phasics Spiking mode\n",
        "- Set your working folder in the GUI\n",
        "- Name the file \"PhasicSpiking\"\n",
        "- Load and apply stimulus '5i_10ms'\n",
        "- Record the voltage trace\n",
        "- Plot the voltage trace\n",
        "\n",
        "<br>\n",
        "\n",
        "🎯 **Goal**\n",
        "\n",
        "To observe and understand how a neuron generates an action potential in response to a stimulus, and to identify the key phases that underlie electrical signaling in the nervous system.\n",
        "\n",
        "<br>\n",
        "\n",
        "Now, let's visualize it and observe it!\n"
      ],
      "metadata": {
        "id": "qNX7sAs5KRQg"
      }
    },
    {
      "cell_type": "code",
      "source": [
        "# Step 1: Import the libraries we need\n",
        "import pandas as pd\n",
        "import matplotlib.pyplot as plt\n",
        "\n",
        "# Step 2: Load the CSV file you recorded from Spikeling\n",
        "\n",
        "from google.colab import files\n",
        "uploaded = files.upload()\n",
        "\n",
        "# Load the CSV file into a DataFrame\n",
        "data = pd.read_csv('___')  # <-- Fill in the filename\n",
        "\n",
        "# Let's check what the data looks like\n",
        "data.___()  # <-- Which function lets you preview the first few rows?\n",
        "\n"
      ],
      "metadata": {
        "id": "or4E3GOZOK3k"
      },
      "execution_count": null,
      "outputs": []
    },
    {
      "cell_type": "code",
      "source": [
        "# @title Click to see solution\n",
        "\n",
        "# Step 1: Import the libraries we need\n",
        "import pandas as pd\n",
        "import matplotlib.pyplot as plt\n",
        "\n",
        "# Step 2: Load the CSV file you recorded from Spikeling\n",
        "\n",
        "#from google.colab import files\n",
        "#uploaded = files.upload()\n",
        "\n",
        "# Load the CSV file into a DataFrame\n",
        "data = pd.read_csv('PhasicSpiking.csv')\n",
        "\n",
        "# Let's check what the data looks like\n",
        "data.head()"
      ],
      "metadata": {
        "cellView": "form",
        "id": "97kDELKoNymv"
      },
      "execution_count": null,
      "outputs": []
    },
    {
      "cell_type": "markdown",
      "source": [
        "---\n",
        "💬 You should see following columns: Time (ms), Spikeling Vm (mV), Stimulus (%). You can ignore the rest for now.\n",
        "\n",
        "---"
      ],
      "metadata": {
        "id": "CIBtDAf0O4z9"
      }
    },
    {
      "cell_type": "code",
      "source": [
        "# Step 3: Find all the time points when the stimulus was active\n",
        "\n",
        "# The stimulus is indicated in the \"Stimulus\" column.\n",
        "# When the stimulus is on, the value is greater than 0.\n",
        "\n",
        "stimulus_times = data[data['___'] > 0]['___']  # <-- Fill in column names\n",
        "\n",
        "# Optional: Check if a stimulus was found\n",
        "if len(stimulus_times) == 0:\n",
        "    print(\"No stimulus found in this recording.\")\n",
        "else:\n",
        "    stim_start = stimulus_times.iloc[___]  # <-- Index for start\n",
        "    stim_end = stimulus_times.iloc[___]    # <-- Index for end\n",
        "    print(f\"Stimulus detected from {stim_start:.1f} ms to {stim_end:.1f} ms\")\n",
        "\n",
        "\n"
      ],
      "metadata": {
        "id": "2Ovzqt9EOOb9"
      },
      "execution_count": null,
      "outputs": []
    },
    {
      "cell_type": "code",
      "source": [
        "# @title Click to see solution\n",
        "\n",
        "# Step 3: Find all the time points when the stimulus was active\n",
        "\n",
        "# The stimulus is indicated in the \"Stimulus\" column.\n",
        "# When the stimulus is on, the value is greater than 0.\n",
        "\n",
        "stimulus_times = data[data['Stimulus (%)'] > 0]['Time (ms)']\n",
        "\n",
        "# Optional: Check if a stimulus was found\n",
        "if len(stimulus_times) == 0:\n",
        "    print(\"No stimulus found in this recording.\")\n",
        "else:\n",
        "    stim_start = stimulus_times.iloc[0]  # <-- Index for start\n",
        "    stim_end = stimulus_times.iloc[-1]    # <-- Index for end\n",
        "    print(f\"Stimulus detected from {stim_start:.1f} ms to {stim_end:.1f} ms\")"
      ],
      "metadata": {
        "cellView": "form",
        "id": "Gnf82L9UOalQ"
      },
      "execution_count": null,
      "outputs": []
    },
    {
      "cell_type": "code",
      "source": [
        "# Step 3.5: Define how much time to include before and after stimulus\n",
        "window_before = ___  # e.g., 50 ms\n",
        "window_after = ___   # e.g., 50 ms\n",
        "\n",
        "plot_start = stim_start - ___  # <-- Fill in\n",
        "plot_end = stim_start + ___    # <-- Fill in\n",
        "\n",
        "# Extract only the part of the data within the window\n",
        "extracted_data = data[(data['Time (ms)'] >= ___) & (data['Time (ms)'] <= ___)]  # <-- Fill in\n"
      ],
      "metadata": {
        "id": "D5vP7Gm4gi3d"
      },
      "execution_count": null,
      "outputs": []
    },
    {
      "cell_type": "code",
      "source": [
        "# @title Click to see solution\n",
        "\n",
        "# Step 3.5: Define how much time to include before and after stimulus\n",
        "window_before = 50  # e.g., 50 ms\n",
        "window_after = 50   # e.g., 50 ms\n",
        "\n",
        "plot_start = stim_start - window_before\n",
        "plot_end = stim_start + window_after\n",
        "\n",
        "# Extract only the part of the data within the window\n",
        "extracted_data = data[(data['Time (ms)'] >= plot_start) & (data['Time (ms)'] <= plot_end)]\n"
      ],
      "metadata": {
        "id": "JUoiPiEEgzZq"
      },
      "execution_count": null,
      "outputs": []
    },
    {
      "cell_type": "code",
      "source": [
        "# Step 4: Plot the voltage trace\n",
        "\n",
        "plt.figure(figsize=(10, 5))\n",
        "\n",
        "# Plot the membrane voltage\n",
        "plt.plot(extracted_data['Time (ms)'], extracted_data['___'], label='Voltage (mV)', color='purple')  # <-- Voltage column name\n",
        "\n",
        "# Highlight the stimulus interval\n",
        "plt.axvspan(___, ___, color='orange', alpha=0.3, label='Stimulus')  # <-- Fill in stimulus start/end\n",
        "\n",
        "plt.title(\"Action Potential Phasic Spiking Neuron\")\n",
        "plt.xlabel(\"Time (ms)\")\n",
        "plt.ylabel(\"Voltage (mV)\")\n",
        "\n",
        "plt.legend()\n",
        "plt.show()"
      ],
      "metadata": {
        "id": "GpVkknpTbWns"
      },
      "execution_count": null,
      "outputs": []
    },
    {
      "cell_type": "code",
      "source": [
        "# @title Click to see solution\n",
        "\n",
        "# Step 4: Plot the voltage trace\n",
        "\n",
        "plt.figure(figsize=(10, 5))\n",
        "plt.plot(extracted_data['Time (ms)'], extracted_data['Spikeling Vm (mV)'], label='Voltage (mV)', color='purple')\n",
        "\n",
        "# Highlight the stimulus interval\n",
        "plt.axvspan(stim_start, stim_end, color='orange', alpha=0.3, label='Stimulus')\n",
        "\n",
        "plt.title(\"Action Potential Phasic Spiking Neuron\")\n",
        "plt.xlabel(\"Time (ms)\")\n",
        "plt.ylabel(\"Voltage (mV)\")\n",
        "\n",
        "plt.legend()\n",
        "plt.show()"
      ],
      "metadata": {
        "id": "ZVS2ikw8bY4W"
      },
      "execution_count": null,
      "outputs": []
    },
    {
      "cell_type": "markdown",
      "source": [
        "# **🧠 Questions for Discussion**\n",
        "- What happens to the voltage when a stimulus is applied?\n",
        "- Where does the spike begin and where does it end?\n",
        "- What happens to the voltage right after the spike?\n",
        "- Why might the neuron only fire once in this mode?"
      ],
      "metadata": {
        "id": "c7_Yez3UnM7M"
      }
    },
    {
      "cell_type": "markdown",
      "source": [
        "---\n",
        "# **🔍 2. Do all neurons fire in the same way when presented with a stimulus?**\n",
        "\n",
        "Neurons do **not** all fire in the same way—even when given the **same stimulus**. Different neuron types have unique electro-chemical properties, such as ion channel distributions and membrane dynamics, that lead to characteristic firing patterns like **tonic spiking** (regular, sustained firing) or **bursting** (groups of spikes followed by pauses).\n",
        "\n",
        "<br>\n",
        "\n",
        "📝 **Activity**\n",
        "\n",
        "- Set Spikeling to Tonic Spiking\n",
        "- Apply a current at 10 a.u. intensity for 250 ms (use stimulus '10i_250ms')\n",
        "- Record the resulting voltage over time\n",
        "- Repeat for a Tonic Bursting neuron\n",
        "- Visualize and compare how the two neurons respond\n",
        "\n",
        "<br>\n",
        "\n",
        "🎯 **Goal**\n",
        "\n",
        "To explore how different types of neurons exhibit distinct firing patterns in response to the same stimulus, and to understand how these differences arise from the neurons' intrinsic electrical properties which contribute to their roles in neural circuits."
      ],
      "metadata": {
        "id": "8Z7X8cPpnYUf"
      }
    },
    {
      "cell_type": "code",
      "source": [
        "# Step 1: Import the libraries we need\n",
        "import ___ as ___      # e.g., pandas\n",
        "import ___ as ___      # e.g., matplotlib.pyplot\n",
        "\n",
        "# Step 2: Load the CSV files you recorded from Spikeling\n",
        "from google.colab import ___\n",
        "uploaded = ___.___()   # Function to upload files\n",
        "\n",
        "# Load the two recordings into DataFrames\n",
        "tonic = pd.read_csv('___')      # <-- Fill in filename for tonic spiking\n",
        "bursting = pd.read_csv('___')   # <-- Fill in filename for bursting neuron"
      ],
      "metadata": {
        "id": "dVZgXBpH0zVy"
      },
      "execution_count": null,
      "outputs": []
    },
    {
      "cell_type": "code",
      "source": [
        "# @title Click to see solution\n",
        "\n",
        "# Step 1: Import the libraries we need\n",
        "import pandas as pd\n",
        "import matplotlib.pyplot as plt\n",
        "\n",
        "# Step 2: Load the CSV file you recorded from Spikeling\n",
        "\n",
        "from google.colab import files\n",
        "uploaded = files.upload()\n",
        "\n",
        "# Load the two recordings into DataFrames\n",
        "spiking = pd.read_csv('TonicSpiking.csv')\n",
        "bursting = pd.read_csv('TonicBursting.csv')\n"
      ],
      "metadata": {
        "id": "L9PrFmUc1Dds",
        "cellView": "form"
      },
      "execution_count": null,
      "outputs": []
    },
    {
      "cell_type": "code",
      "source": [
        "# Step 3: Align the two traces on stimulus onset\n",
        "\n",
        "# Find the time at which the stimulus starts and ends for each neuron\n",
        "stim_onset_spiking = spiking[spiking['___'] > 0]['___'].iloc[0]   # <-- Which column has the time?\n",
        "stim_offset_spiking = spiking[spiking['Stimulus (%)'] > 0]['Time (ms)'].iloc[-1]\n",
        "\n",
        "stim_onset_bursting = bursting[bursting['___'] > 0]['___'].iloc[0]\n",
        "stim_offset_bursting = bursting[bursting['Stimulus (%)'] > 0]['Time (ms)'].iloc[-1]\n",
        "\n",
        "# Calculate stimulus duration (should be same for both)\n",
        "stim_duration = ___ - ___  # <-- Use the bursting trace offsets and onsets\n",
        "\n",
        "# Define how much time to include before and after stimulus\n",
        "x_start = ___   # e.g., -50 ms\n",
        "x_end = ___ + ___  # stimulus duration + buffer after\n",
        "\n",
        "# Align each neuron's time axis to start at stimulus onset\n",
        "spiking['___'] = spiking['Time (ms)'] - ___  # new column name and shift\n",
        "bursting['___'] = bursting['Time (ms)'] - ___\n"
      ],
      "metadata": {
        "id": "8pa4NYMl3dFi"
      },
      "execution_count": null,
      "outputs": []
    },
    {
      "cell_type": "code",
      "source": [
        "# @title Click to see solution\n",
        "\n",
        "# Step 3: Align the two traces on stimulus onset\n",
        "\n",
        "# Find the time at which the stimulus starts and ends and the duration for each neuron\n",
        "stim_onset_spiking = spiking[spiking['Stimulus (%)'] > 0]['Time (ms)'].iloc[0]\n",
        "stim_offset_spiking = spiking[spiking['Stimulus (%)'] > 0]['Time (ms)'].iloc[-1]\n",
        "\n",
        "\n",
        "stim_onset_bursting = bursting[bursting['Stimulus (%)'] > 0]['Time (ms)'].iloc[0]\n",
        "stim_offset_bursting = bursting[bursting['Stimulus (%)'] > 0]['Time (ms)'].iloc[-1]\n",
        "\n",
        "# Calculate stimulus duration (should be same for both)\n",
        "stim_duration = stim_offset_bursting - stim_onset_bursting #stimulus duration is the same for both neurons\n",
        "\n",
        "# Define how much time to include before and after (e.g., 50 ms before and 50 ms after)\n",
        "x_start = -50\n",
        "x_end = stim_duration+ 50\n",
        "\n",
        "# Align each neuron's time axis to with 0 at onset of the stimulus\n",
        "tonic['AlignedTime'] = spiking['Time (ms)'] - stim_onset_spiking\n",
        "bursting['AlignedTime'] = bursting['Time (ms)'] - stim_onset_bursting"
      ],
      "metadata": {
        "id": "6Zrz16mn_stl",
        "cellView": "form"
      },
      "execution_count": null,
      "outputs": []
    },
    {
      "cell_type": "code",
      "source": [
        "# Step 4: Plot the traces aligned\n",
        "plt.figure(figsize=(12, 6))\n",
        "\n",
        "# Plot Tonic Spiking\n",
        "plt.subplot(2, 1, 1)\n",
        "plt.plot(spiking['___'], spiking['___'], color='navy')  # <-- Aligned time and voltage column\n",
        "plt.axvspan(0, ___, color='orange', alpha=0.3, label='Stimulus')  # <-- stimulus duration\n",
        "plt.title(\"Neuron 1: ___\")  # <-- Neuron type\n",
        "plt.ylabel(\"Voltage (mV)\")\n",
        "plt.xlim(x_start, x_end)\n",
        "plt.grid(True)\n",
        "\n",
        "# Plot Tonic Bursting\n",
        "plt.subplot(2, 1, 2)\n",
        "plt.plot(bursting['___'], bursting['___'], color='darkgreen')\n",
        "plt.axvspan(0, ___, color='orange', alpha=0.3, label='Stimulus')\n",
        "plt.title(\"Neuron 2: ___\")  # <-- Neuron type\n",
        "plt.xlabel(\"Time from Stimulus Onset (ms)\")\n",
        "plt.ylabel(\"Voltage (mV)\")\n",
        "plt.xlim(x_start, x_end)\n",
        "plt.grid(True)\n",
        "\n",
        "plt.___()  # <-- Tidy up subplot layout\n",
        "plt.___()  # <-- Display the plot"
      ],
      "metadata": {
        "id": "PzxdecVq4q0n"
      },
      "execution_count": null,
      "outputs": []
    },
    {
      "cell_type": "code",
      "source": [
        "# @title Click to see solution\n",
        "\n",
        "# Step 4: Plot the traces aligned\n",
        "plt.figure(figsize=(12, 6))\n",
        "\n",
        "# Tonic Spiking\n",
        "plt.subplot(2, 1, 1)\n",
        "plt.plot(spiking['AlignedTime'], spiking['Spikeling Vm (mV)'], color='navy')\n",
        "plt.axvspan(0, stim_duration, color='orange', alpha=0.3, label='Stimulus')\n",
        "plt.title(\"Neuron 1: Tonic Spiking\")\n",
        "plt.ylabel(\"Voltage (mV)\")\n",
        "plt.xlim(x_start, x_end)\n",
        "plt.grid(True)\n",
        "\n",
        "\n",
        "# Tonic Bursting\n",
        "plt.subplot(2, 1, 2)\n",
        "plt.plot(bursting['AlignedTime'], bursting['Spikeling Vm (mV)'], color='darkgreen')\n",
        "plt.axvspan(0, stim_duration, color='orange', alpha=0.3, label='Stimulus')\n",
        "plt.title(\"Neuron 2: Tonic Bursting\")\n",
        "plt.xlabel(\"Time from Stimulus Onset (ms)\")\n",
        "plt.ylabel(\"Voltage (mV)\")\n",
        "plt.xlim(x_start, x_end)\n",
        "plt.grid(True)\n",
        "\n",
        "\n",
        "plt.tight_layout()\n",
        "plt.show()"
      ],
      "metadata": {
        "id": "so3qfyp3_-8k",
        "cellView": "form"
      },
      "execution_count": null,
      "outputs": []
    },
    {
      "cell_type": "markdown",
      "source": [
        "# **🧠 Questions for Discussion**\n",
        "\n",
        "- How would you describe the firing pattern of each neuron?\n",
        "- Do they fire the same number of spikes?\n",
        "- Do they fire regularly?\n",
        "- How quickly does each neuron respond after stimulus onset?\n",
        "- Would these two firing patterns have the same effect on a postsynaptic neuron?\n",
        "- Why might different firing patterns be useful in different brain areas? Can you think of situations where bursting would be useful? What about tonic spiking?\n",
        "\n",
        "\n",
        "\n"
      ],
      "metadata": {
        "id": "DmAp0PjXCZVF"
      }
    },
    {
      "cell_type": "markdown",
      "source": [
        "---\n",
        "\n",
        "# **🔍 3. How do we analyze firing patterns?**\n",
        "\n",
        "To understand how neurons encode information, we need to go beyond visual inspection and **analyze their firing patterns quantitatively**. By detecting spikes in a voltage trace—often using a simple threshold—we can extract key features like the **spike count, firing rate**, and **inter-spike interval (ISI)**. These measures help us compare how different neurons respond to stimuli and uncover how timing and frequency of spikes contribute to neural coding.\n",
        "\n",
        "\n",
        "<br>\n",
        "\n",
        "📝 **Activity**\n",
        "\n",
        "In the previous step, we plotted voltage traces aligned to stimulus onset.\n",
        "\n",
        "Now we will:\n",
        "\n",
        "- Detect spikes using a simple voltage threshold.\n",
        "\n",
        "- Count the number of spikes each neuron fired during the stimulus.\n",
        "\n",
        "- Compute the firing rate = (spike count) ÷ (stimulus duration in seconds).\n",
        "\n",
        "- Calculate the inter-spike intervals (ISIs) and visualize them.\n",
        "\n",
        "<br>\n",
        "\n",
        "**Assumption:** spikes cross a threshold of -20 mV from below\n",
        "\n",
        "<br>\n",
        "\n",
        "🎯 **Goal**\n",
        "\n",
        "To learn how to quantify and analyze neuronal firing by extracting spike-based features — such as spike count, firing rate, and inter-spike interval — and to understand how these measures reveal differences in how neurons encode information in response to stimuli.\n"
      ],
      "metadata": {
        "id": "juU2wx5jDzuy"
      }
    },
    {
      "cell_type": "code",
      "source": [
        "# Step 1: Import numpy\n",
        "import ___ as ___   # e.g., numpy\n",
        "\n",
        "# Step 2: Detect spikes\n",
        "# Set spike detection threshold\n",
        "threshold = ___  # <-- in mV; choose a reasonable value like -20\n",
        "\n",
        "# --- Detect spikes in the spiking neuron ---\n",
        "# A spike is counted when the membrane potential crosses the threshold from below\n",
        "spiking_spikes = spiking[\n",
        "    (spiking['___'] > threshold) &   # <-- Column for voltage\n",
        "    (spiking['___'].shift(1) <= threshold)  # <-- Previous value was below threshold\n",
        "]\n",
        "\n",
        "# We only want spikes that occurred during the stimulus\n",
        "spiking_spikes_during_stim = spiking_spikes[\n",
        "    (spiking_spikes['___'] >= 0) &           # <-- Aligned time >= 0\n",
        "    (spiking_spikes['___'] <= stim_duration) # <-- Aligned time <= duration\n",
        "]\n",
        "\n",
        "# --- Repeat for bursting neuron ---\n",
        "bursting_spikes = bursting[\n",
        "    (bursting['Spikeling Vm (mV)'] > threshold) &\n",
        "    (bursting['Spikeling Vm (mV)'].shift(1) <= threshold)\n",
        "]\n",
        "\n",
        "bursting_spikes_during_stim = bursting_spikes[\n",
        "    (bursting_spikes['___'] >= 0) &\n",
        "    (bursting_spikes['___'] <= stim_duration)\n",
        "]"
      ],
      "metadata": {
        "id": "k4Vjkj3IC-st"
      },
      "execution_count": null,
      "outputs": []
    },
    {
      "cell_type": "code",
      "source": [
        "# @title Click to see solution\n",
        "# Step 1: Import numpy\n",
        "import numpy as np\n",
        "\n",
        "\n",
        "# Step 2: Detect spikes\n",
        "# Set spike detection threshold\n",
        "threshold = -20  # in mV\n",
        "\n",
        "# --- Detect spikes in the spiking neuron ---\n",
        "# A spike is counted when the membrane potential crosses the threshold from below\n",
        "\n",
        "spiking_spikes = spiking[\n",
        "    (spiking['Spikeling Vm (mV)'] > threshold) &\n",
        "    (spiking['Spikeling Vm (mV)'].shift(1) <= threshold)\n",
        "]\n",
        "\n",
        "# We only want spikes that occurred during the stimulus\n",
        "spiking_spikes_during_stim = spiking_spikes[\n",
        "    (spiking_spikes['AlignedTime'] >= 0) &\n",
        "    (spiking_spikes['AlignedTime'] <= stim_duration)\n",
        "]\n",
        "\n",
        "# --- Repeat for bursting neuron ---\n",
        "bursting_spikes = bursting[\n",
        "    (bursting['Spikeling Vm (mV)'] > threshold) &\n",
        "    (bursting['Spikeling Vm (mV)'].shift(1) <= threshold)\n",
        "]\n",
        "bursting_spikes_during_stim = bursting_spikes[\n",
        "    (bursting_spikes['AlignedTime'] >= 0) &\n",
        "    (bursting_spikes['AlignedTime'] <= stim_duration)\n",
        "]\n"
      ],
      "metadata": {
        "id": "cHN-_4xgHQnh"
      },
      "execution_count": null,
      "outputs": []
    },
    {
      "cell_type": "code",
      "source": [
        "# Step 2.5: Plot spike trains\n",
        "plt.figure(figsize=(10, 3))\n",
        "\n",
        "# Spiking spikes at y = 2\n",
        "plt.eventplot(___['___'], lineoffsets=2, colors='navy', linelengths=0.9, label='Tonic neuron')\n",
        "\n",
        "# Bursting spikes at y = 1\n",
        "plt.eventplot(___['___'], lineoffsets=1, colors='darkgreen', linelengths=0.9, label='Bursting neuron')\n",
        "\n",
        "# Highlight stimulus window\n",
        "plt.axvspan(0, ___, color='lightgray', alpha=0.3, label='Stimulus')  # <-- Stimulus duration\n",
        "\n",
        "plt.yticks([1, 2], ['___', '___'])  # <-- Labels for neuron types\n",
        "plt.xlabel(\"Time (ms from stimulus onset)\")\n",
        "plt.title(\"Spike train\")\n",
        "plt.legend(bbox_to_anchor=(1.05, 1), loc='upper left')\n",
        "plt.tight_layout()\n",
        "plt.show()\n"
      ],
      "metadata": {
        "id": "hgnx8Qyk6x2i"
      },
      "execution_count": null,
      "outputs": []
    },
    {
      "cell_type": "code",
      "source": [
        "# @title Click to see solution\n",
        "\n",
        "# Step 2.5: Plot spike trains\n",
        "plt.figure(figsize=(10, 3))\n",
        "\n",
        "# Plot tonic spiking neuron spikes at y=2\n",
        "plt.eventplot(spiking_spikes_during_stim['AlignedTime'], lineoffsets=2, colors='navy', linelengths=0.9, label='Tonic neuron')\n",
        "\n",
        "# Plot tonic bursting neuron spikes at y=1\n",
        "plt.eventplot(bursting_spikes_during_stim['AlignedTime'], lineoffsets=1, colors='darkgreen', linelengths=0.9, label='Bursting neuron')\n",
        "\n",
        "# Highlight stimulus window\n",
        "plt.axvspan(0, stim_duration, color='lightgray', alpha=0.3, label='Stimulus')\n",
        "\n",
        "plt.yticks([1, 2], ['Tonic Spiking', 'Tonic Bursting'])\n",
        "plt.xlabel(\"Time (ms from stimulus onset)\")\n",
        "plt.title(\"Spike train\")\n",
        "plt.legend(bbox_to_anchor=(1.05, 1), loc='upper left', borderaxespad=0.)\n",
        "plt.tight_layout()\n",
        "plt.show()"
      ],
      "metadata": {
        "id": "kSCTboFp6yWa",
        "cellView": "form"
      },
      "execution_count": null,
      "outputs": []
    },
    {
      "cell_type": "markdown",
      "source": [
        "---\n",
        "💬 Documentation for [`plt.eventplot`](https://matplotlib.org/stable/api/_as_gen/matplotlib.pyplot.eventplot.html)\n",
        "\n",
        "It creates a plot for events.\n",
        "\n",
        "---"
      ],
      "metadata": {
        "id": "mDKtfWY7Y1oa"
      }
    },
    {
      "cell_type": "code",
      "source": [
        "# Step 3: Calculate Firing rate\n",
        "# Firing rate = spikes per second\n",
        "\n",
        "stim_duration_s = ___ / 1000  # Convert ms to seconds\n",
        "spiking_rate = len(___) / stim_duration_s\n",
        "bursting_rate = len(___) / stim_duration_s\n",
        "\n",
        "# Print results\n",
        "print(f\"Spiking neuron: {len(spiking_spikes_during_stim)} spikes, {spiking_rate:.2f} Hz\")\n",
        "print(f\"Bursting neuron: {len(bursting_spikes_during_stim)} spikes, {bursting_rate:.2f} Hz\")"
      ],
      "metadata": {
        "id": "lwZpZ3hFKCsB"
      },
      "execution_count": null,
      "outputs": []
    },
    {
      "cell_type": "code",
      "source": [
        "# @title Click to see solution\n",
        "\n",
        "# Step 3: Calculate Firing rate\n",
        "# Firing rate = spikes per second\n",
        "stim_duration_s = stim_duration / 1000  # ms → s\n",
        "spiking_rate = len(spiking_spikes_during_stim) / stim_duration_s\n",
        "bursting_rate = len(bursting_spikes_during_stim) / stim_duration_s\n",
        "\n",
        "# Print the results\n",
        "print(f\" Tonic neuron: {len(spiking_spikes_during_stim)} spikes, {spiking_rate:.2f} Hz\")\n",
        "print(f\" Bursting neuron: {len(bursting_spikes_during_stim)} spikes, {bursting_rate:.2f} Hz\")"
      ],
      "metadata": {
        "id": "QEYXv5TMJRnx",
        "cellView": "form"
      },
      "execution_count": null,
      "outputs": []
    },
    {
      "cell_type": "code",
      "source": [
        "# Step 4: Calculate and plot ISIs (Inter-Spike Intervals)\n",
        "\n",
        "# Use np.diff to calculate time between spikes\n",
        "spiking_isi = np.diff(___['___'])   # <-- Use aligned time column\n",
        "burst_isi = np.diff(___['___'])\n",
        "\n",
        "# Choose bin edges for histogram\n",
        "# Tip: 1 ms bins, range = 0 to max ISI + 1\n",
        "max_isi = np.max(___.max(), ___.max())\n",
        "bins = np.arange(0, max_isi + 2, 1)\n",
        "\n",
        "# Plot ISI histograms\n",
        "plt.figure(figsize=(10, 4))\n",
        "\n",
        "plt.subplot(1, 2, 1)\n",
        "plt.hist(spiking_isi, bins=bins, color='navy', alpha=0.7)\n",
        "plt.title(\"Spiking Neuron ISI\")\n",
        "plt.xlabel(\"ISI (ms)\")\n",
        "plt.ylabel(\"Count\")\n",
        "\n",
        "plt.subplot(1, 2, 2)\n",
        "plt.hist(burst_isi, bins=bins, color='darkgreen', alpha=0.7)\n",
        "plt.title(\"Bursting Neuron ISI\")\n",
        "plt.xlabel(\"ISI (ms)\")\n",
        "\n",
        "plt.tight_layout()\n",
        "plt.show()"
      ],
      "metadata": {
        "id": "Z1GQ7FUILvZP"
      },
      "execution_count": null,
      "outputs": []
    },
    {
      "cell_type": "code",
      "source": [
        "# @title Click to see solution\n",
        "\n",
        "# Step 4: Calculate and plot ISIs (Inter-Spike Intervals)\n",
        "\n",
        "# Use np.diff to calculate time between spikes\n",
        "spiking_isi = np.diff(spiking_spikes_during_stim['AlignedTime'])\n",
        "burst_isi = np.diff(bursting_spikes_during_stim['AlignedTime'])\n",
        "\n",
        "# Choose bin edges for histogram\n",
        "# Tip: 1 ms bins, range = 0 to max ISI + 1\n",
        "max_isi = np.max(spiking_isi.max(), burst_isi.max())\n",
        "bins = np.arange(0, max_isi + 2, 1)  # +2 to include the last interval\n",
        "\n",
        "# Plot ISI histograms\n",
        "plt.figure(figsize=(10, 4))\n",
        "\n",
        "plt.subplot(1, 2, 1)\n",
        "plt.hist(spiking_isi, bins=bins, color='navy', alpha=0.7)\n",
        "plt.title(\"Spiking Neuron ISI\")\n",
        "plt.xlabel(\"ISI (ms)\")\n",
        "plt.ylabel(\"Count\")\n",
        "\n",
        "plt.subplot(1, 2, 2)\n",
        "plt.hist(burst_isi, bins=bins, color='darkgreen', alpha=0.7)\n",
        "plt.title(\"Bursting Neuron ISI\")\n",
        "plt.xlabel(\"ISI (ms)\")\n",
        "\n",
        "plt.tight_layout()\n",
        "plt.show()"
      ],
      "metadata": {
        "id": "QFl-wWG8KqdI",
        "cellView": "form"
      },
      "execution_count": null,
      "outputs": []
    },
    {
      "cell_type": "markdown",
      "source": [
        "---\n",
        "💬 Documentation for [`np.diff`](https://numpy.org/doc/2.1/reference/generated/numpy.diff.html)\n",
        "\n",
        "It calculates the difference between each pair of adjacent values in an array.\n",
        "\n",
        "---"
      ],
      "metadata": {
        "id": "fjANEOQnz7dE"
      }
    },
    {
      "cell_type": "markdown",
      "source": [
        "\n",
        "💬 It’s quite common in neuroscience analysis to treat the first spike differently or sometimes exclude it because it can reflect transient or adaptation effects rather than steady-state firing.\n",
        "\n",
        "---\n",
        "\n"
      ],
      "metadata": {
        "id": "QllLWD4OVB6p"
      }
    },
    {
      "cell_type": "markdown",
      "source": [
        "# **🧠 Questions for Discussion**\n",
        "- How do these two neurons differ in their response patterns?\n",
        "- Which neuron had a higher firing rate? Does this match your visual impression from the traces?\n",
        "- What does the ISI histogram tell you about regularity?\n",
        "- Is one more reliable or more variable?\n",
        "- Is information encoded in how often a neuron fires, or when?"
      ],
      "metadata": {
        "id": "vf5YDoQWL8GA"
      }
    },
    {
      "cell_type": "markdown",
      "source": [
        "---\n",
        "\n",
        "# **🔍 4. Does a neuron always fire the same way when presented with the same stimulus?**\n",
        "\n",
        "Even when a neuron receives the **same stimulus**, its response can vary from trial to trial. This **neural variability** reflects the brain’s dynamic and probabilistic nature, influenced by factors like noise, internal states, and synaptic inputs. By analyzing trial-to-trial differences in spike timing and count, we gain insight into how neurons process information in **uncertain** or **changing environments**, and how this variability can be both a challenge and a feature in neural coding.\n",
        "\n",
        "<br>\n",
        "\n",
        "📝 **Activity**\n",
        "\n",
        "- Set Spikeling to tonic spiking mode.\n",
        "\n",
        "- Apply stimulus '10i_10msON_100msOFF' (10 ms stimulus at 10 a.u. intensity with 100 ms resting time). To make it more realistic you can add 5-10% noise.\n",
        "\n",
        "- Record the membrane potential for 10 trials of the stimulus\n",
        "\n",
        "- Overlay voltage traces from multiple trials to visually compare them\n",
        "\n",
        "- Calculate and plot:\n",
        "  - The average voltage trace with error bars showing variability.\n",
        "\n",
        "  - The number of spikes per trial\n",
        "\n",
        "  - The standard deviation and coefficient of variation (CV) of spike counts\n",
        "  \n",
        "  <br>\n",
        "  \n",
        "🎯 **Goal**\n",
        "\n",
        "To investigate neural variability—a fundamental property of real neurons—by examining how a single neuron can respond differently to identical stimuli across multiple trials. This variability in membrane voltage, spike timing, and spike count plays a key role in how the brain processes information under uncertainty and adapts to changing environments.\n"
      ],
      "metadata": {
        "id": "11o9ier3otLj"
      }
    },
    {
      "cell_type": "code",
      "source": [
        "# Step 1: Import the libraries we need\n",
        "import ___ as ___   # pandas\n",
        "import ___ as ___   # matplotlib.pyplot\n",
        "import ___ as ___   # numpy\n",
        "\n",
        "# Step 2: Load the data\n",
        "from google.colab import files\n",
        "uploaded = files.upload()\n",
        "Variability = pd.read_csv('___')  # <-- Replace with actual filename"
      ],
      "metadata": {
        "id": "R6z7XI8qC7QD"
      },
      "execution_count": null,
      "outputs": []
    },
    {
      "cell_type": "code",
      "source": [
        "# @title Click to see solution\n",
        "\n",
        "# Step 1: Import the libraries we need\n",
        "import pandas as pd\n",
        "import matplotlib.pyplot as plt\n",
        "import numpy as np\n",
        "\n",
        "# Step 2: Load data\n",
        "from google.colab import files\n",
        "uploaded = files.upload()\n",
        "Variability = pd.read_csv('TonicVariability.csv')"
      ],
      "metadata": {
        "id": "nhikIrCyDKZZ"
      },
      "execution_count": null,
      "outputs": []
    },
    {
      "cell_type": "markdown",
      "source": [
        "\n",
        "---\n",
        "💬 Given that your data is a continuous recording with stimulus periods interleaved by rest periods, identifying the start of each stimulus presentation (trial) should involve looping through the data and detecting transitions where the stimulus turns on (e.g., from 0 to >0 in the Stimulus column).\n",
        "\n",
        "We need this to convert between \"samples\" (data points) and \"real time\" (ms)\n",
        "\n",
        "---"
      ],
      "metadata": {
        "id": "bBxhVw_wKl2K"
      }
    },
    {
      "cell_type": "code",
      "source": [
        "# Step 3: Identify trials\n",
        "\n",
        "# Define sampling interval (e.g. 0.1 ms between samples)\n",
        "sampling_interval = ___  # in ms\n",
        "\n",
        "# Define time window (before, during, after stimulus)\n",
        "pre_stim_ms = ___\n",
        "stim_duration_ms = ___\n",
        "post_stim_ms = ___\n",
        "\n",
        "# Convert to number of samples\n",
        "pre_samples = int(pre_stim_ms / sampling_interval)\n",
        "stim_samples = int(stim_duration_ms / sampling_interval)\n",
        "post_samples = int(post_stim_ms / sampling_interval)\n",
        "\n",
        "# Find stimulus onsets\n",
        "# Create a Boolean mask for when the stimulus turns on\n",
        "stim_on_mask = (Variability['___'].shift(1) == 0) & (Variability['Stimulus (%)'] > ___)\n",
        "\n",
        "# Use the mask to get the corresponding index positions (stimulus onsets)\n",
        "stim_onsets = Variability.index[stim_on_mask]"
      ],
      "metadata": {
        "id": "WJZiI-bxg0Zu"
      },
      "execution_count": null,
      "outputs": []
    },
    {
      "cell_type": "code",
      "source": [
        "#@title Click to see solution\n",
        "\n",
        "# Step 3: Identify trials\n",
        "\n",
        "# Define sampling interval\n",
        "sampling_interval = 0.1  # in ms\n",
        "\n",
        "# Define time window of interest\n",
        "pre_stim_ms = 50\n",
        "stim_duration_ms = 10\n",
        "post_stim_ms = 50\n",
        "\n",
        "# Convert to number of samples\n",
        "pre_samples = int(pre_stim_ms / sampling_interval)\n",
        "stim_samples = int(stim_duration_ms / sampling_interval)\n",
        "post_samples = int(post_stim_ms / sampling_interval)\n",
        "\n",
        "# Find stimulus onset indices\n",
        "# Create a Boolean mask for when the stimulus turns on\n",
        "stim_on_mask = (Variability['Stimulus (%)'].shift(1) == 0) & (Variability['Stimulus (%)'] > 0)\n",
        "\n",
        "# Use the mask to get the corresponding index positions (stimulus onsets)\n",
        "stim_onsets = Variability.index[stim_on_mask]"
      ],
      "metadata": {
        "id": "WMfj3phsKzXb"
      },
      "execution_count": null,
      "outputs": []
    },
    {
      "cell_type": "code",
      "source": [
        "# Step 4: Extract voltage traces for each trial\n",
        "# Loop through each time the stimulus started, and extract the voltage data around it.\n",
        "trials = []\n",
        "\n",
        "for onset in stim_onsets:\n",
        "    start = onset - pre_samples\n",
        "    end = onset + stim_samples + post_samples\n",
        "    if start >= 0 and end < len(Variability):\n",
        "        voltage_trace = Variability['___'].iloc[start:end].values  # <-- Voltage column\n",
        "        trials.append(voltage_trace)\n",
        "\n",
        "# Create time axis\n",
        "time_axis = np.arange(-pre_samples, stim_samples + post_samples) * sampling_interval"
      ],
      "metadata": {
        "id": "SBsbaGZ2hrdc"
      },
      "execution_count": null,
      "outputs": []
    },
    {
      "cell_type": "code",
      "source": [
        "# @title Click to see solution\n",
        "\n",
        "# Step 4: Extract voltage traces for each trial\n",
        "# Loop through each time the stimulus started, and extract the voltage data around it.\n",
        "trials = []\n",
        "for onset in stim_onsets:\n",
        "    start = onset - pre_samples\n",
        "    end = onset + stim_samples + post_samples\n",
        "    if start >= 0 and end < len(Variability):\n",
        "      trials.append(Variability['Spikeling Vm (mV)'].iloc[start:end].values)\n",
        "\n",
        "# Create time axis in ms\n",
        "time_axis = np.arange(-pre_samples, stim_samples + post_samples) * sampling_interval"
      ],
      "metadata": {
        "id": "pcadQcDedHSv",
        "cellView": "form"
      },
      "execution_count": null,
      "outputs": []
    },
    {
      "cell_type": "code",
      "source": [
        "# Step 5: Plot all trials\n",
        "# Hint: enumerate() is a built-in function of Python.\n",
        "# This function allows us to loop over something and have an automatic counter.\n",
        "\n",
        "plt.figure(figsize=(10, 5))\n",
        "\n",
        "for i, trace in enumerate(trials):\n",
        "    plt.plot(___, ___, alpha=0.4, label=f'Trial {i+1}' if i < 5 else None)\n",
        "\n",
        "# Mark stimulus onset\n",
        "plt.axvline(___, color='red', linestyle='--', label='Stimulus Onset')\n",
        "\n",
        "# Formatting\n",
        "plt.title(\"Voltage Traces Across Trials\")\n",
        "plt.xlabel(\"Time (ms)\")\n",
        "plt.ylabel(\"Membrane Voltage (mV)\")\n",
        "plt.legend(frameon=False)\n",
        "plt.grid(True)\n",
        "plt.tight_layout()\n",
        "plt.show()"
      ],
      "metadata": {
        "id": "TpTaHyXViKGV"
      },
      "execution_count": null,
      "outputs": []
    },
    {
      "cell_type": "code",
      "source": [
        "#@title Click to see solution\n",
        "\n",
        "# Step 5: Plot all trials in the same axis\n",
        "# Hint: enumerate() is a built-in function of Python.\n",
        "# This function allows us to loop over something and have an automatic counter.\n",
        "\n",
        "plt.figure(figsize=(10, 5))\n",
        "\n",
        "for i, trace in enumerate(trials):\n",
        "    plt.plot(time_axis, trace, alpha=0.4, label=f'Trial {i+1}' if i < 5 else None)\n",
        "\n",
        "# Mark stimulus onset\n",
        "plt.axvline(0, color='red', linestyle='--', label='Stimulus Onset')\n",
        "\n",
        "# Add labels and formatting\n",
        "plt.title(\"Voltage Traces\")\n",
        "plt.xlabel(\"Time (ms)\")\n",
        "plt.ylabel(\"Membrane Voltage (mV)\")\n",
        "plt.legend(frameon=False)\n",
        "plt.grid(True)\n",
        "plt.tight_layout()\n",
        "plt.show()\n"
      ],
      "metadata": {
        "cellView": "form",
        "id": "co8fF5JAdS3m"
      },
      "execution_count": null,
      "outputs": []
    },
    {
      "cell_type": "markdown",
      "source": [
        "---\n",
        "💬 Documentation for [`enumerate()`](https://book.pythontips.com/en/latest/enumerate.html)\n",
        "\n",
        "When in a loop, it allows you to keep track of the number of iterations (loops).\n",
        "\n",
        "---"
      ],
      "metadata": {
        "id": "YtHfl2n06rm9"
      }
    },
    {
      "cell_type": "markdown",
      "source": [
        "# **🧠 Questions for Discussion**\n",
        "- Do the voltage traces overlap exactly?\n",
        "- Are there spikes in every trial?\n",
        "- Do spikes occur at the same latency relative to the stimulus?\n",
        "- What part of the response is consistent? What part is variable?\n",
        "- What could explain differences across trials?"
      ],
      "metadata": {
        "id": "4fx-GG8mdxxn"
      }
    },
    {
      "cell_type": "markdown",
      "source": [
        "---\n",
        "Great! Let’s now visualize the trial-to-trial variability by plotting:\n",
        "\n",
        "- The average membrane voltage trace across trials.\n",
        "\n",
        "- The standard deviation around that average.\n",
        "\n",
        "- The coefficient of variation (CV) of spike counts per trial."
      ],
      "metadata": {
        "id": "ppNjQaEBeVAx"
      }
    },
    {
      "cell_type": "code",
      "source": [
        "# Step 1: Compute mean and std of your aligned trials\n",
        "\n",
        "aligned_trials = np.array(trials)\n",
        "mean_trace = np.___(aligned_trials, axis=0)   # average across trials\n",
        "std_trace = np.___(aligned_trials, axis=0)    # variability across trials\n"
      ],
      "metadata": {
        "id": "o251-1_-iY-j"
      },
      "execution_count": null,
      "outputs": []
    },
    {
      "cell_type": "code",
      "source": [
        "#@title Click to see solution\n",
        "\n",
        "# Step 1: Compute mean and std of your aligned trials\n",
        "aligned_trials = np.array(trials)\n",
        "mean_trace = np.mean(aligned_trials, axis=0)\n",
        "std_trace = np.std(aligned_trials, axis=0)\n"
      ],
      "metadata": {
        "id": "wQQICAZjf-eP",
        "cellView": "form"
      },
      "execution_count": null,
      "outputs": []
    },
    {
      "cell_type": "code",
      "source": [
        "# Step 2: Plot average trace with standard deviation\n",
        "\n",
        "plt.figure(figsize=(10, 5))\n",
        "plt.plot(time_axis, mean_trace, color='navy', label='Average Voltage')\n",
        "\n",
        "plt.fill_between(\n",
        "    time_axis,\n",
        "    mean_trace - std_trace,\n",
        "    mean_trace + std_trace,\n",
        "    color='lightblue', alpha=0.5, label='± Std'\n",
        ")\n",
        "\n",
        "plt.axvline(___, color='red', linestyle='--', label='Stimulus Onset')  # stimulus at 0 ms\n",
        "plt.xlabel(\"Time (ms)\")\n",
        "plt.ylabel(\"Membrane Voltage (mV)\")\n",
        "plt.title(\"Average Membrane Voltage Across Trials\")\n",
        "plt.legend()\n",
        "plt.grid(True)\n",
        "plt.tight_layout()\n",
        "plt.show()"
      ],
      "metadata": {
        "id": "lstsvFXvi7TT"
      },
      "execution_count": null,
      "outputs": []
    },
    {
      "cell_type": "code",
      "source": [
        "#@title Click to see solution\n",
        "\n",
        "# Step 2: Plot average trace with standard deviation\n",
        "plt.figure(figsize=(10, 5))\n",
        "plt.plot(time_axis, mean_trace, color='navy', label='Average Voltage')\n",
        "\n",
        "plt.fill_between(time_axis, mean_trace - std_trace, mean_trace + std_trace,\n",
        "                 color='lightblue', alpha=0.5, label='± Std')\n",
        "\n",
        "plt.axvline(0, color='red', linestyle='--', label='Stimulus Onset')\n",
        "plt.xlabel(\"Time (ms)\")\n",
        "plt.ylabel(\"Membrane Voltage (mV)\")\n",
        "plt.title(\"Average Membrane Voltage Across Trials\")\n",
        "plt.legend()\n",
        "plt.grid(True)\n",
        "plt.tight_layout()\n",
        "plt.show()"
      ],
      "metadata": {
        "id": "INXl0CJ6i03G",
        "cellView": "form"
      },
      "execution_count": null,
      "outputs": []
    },
    {
      "cell_type": "code",
      "source": [
        "# Step 3: Spike detection (within each trial)\n",
        "\n",
        "threshold = ___   # Choose appropriate value (e.g. -20)\n",
        "\n",
        "spike_counts = []\n",
        "\n",
        "for trace in aligned_trials:\n",
        "    above_thresh = trace > threshold\n",
        "    crossings = above_thresh & ~np.roll(above_thresh, 1)  # detect upward crossings\n",
        "    spike_times = time_axis[crossings]\n",
        "\n",
        "    # Keep only spikes within stimulus window\n",
        "    valid_spikes = spike_times[\n",
        "        (spike_times >= 0) &\n",
        "        (spike_times <= stim_duration_ms)\n",
        "    ]\n",
        "\n",
        "    spike_counts.append(len(valid_spikes))\n"
      ],
      "metadata": {
        "id": "tJppFQVUjRvB"
      },
      "execution_count": null,
      "outputs": []
    },
    {
      "cell_type": "code",
      "source": [
        "#@title Click to see solution\n",
        "\n",
        "# Step 3: Spike detection (within each trial)\n",
        "\n",
        "threshold = -20\n",
        "\n",
        "spike_counts = []\n",
        "\n",
        "for trace in aligned_trials:\n",
        "    above_thresh = trace > threshold\n",
        "    crossings = (above_thresh & ~np.roll(above_thresh, 1))\n",
        "    spike_times = time_axis[crossings]\n",
        "\n",
        "    # Keep only spikes that fall within the stimulus window\n",
        "    valid_spikes = spike_times[(spike_times >= 0) & (spike_times <= stim_duration_ms)]\n",
        "    spike_counts.append(len(valid_spikes))\n"
      ],
      "metadata": {
        "id": "NvILyaYIghL5",
        "cellView": "form"
      },
      "execution_count": null,
      "outputs": []
    },
    {
      "cell_type": "code",
      "source": [
        "# Step 4: Spike count statistics\n",
        "\n",
        "spike_counts = np.array(spike_counts)\n",
        "mean_spikes = np.___(spike_counts)\n",
        "std_spikes = np.___(spike_counts)\n",
        "cv = std_spikes / mean_spikes if mean_spikes > 0 else np.nan\n",
        "\n",
        "# Print the results\n",
        "print(f\"Mean spike count per trial: {mean_spikes:.2f}\")\n",
        "print(f\"Standard deviation of spike count: {std_spikes:.2f}\")\n",
        "print(f\"Coefficient of Variation (CV): {cv:.2f}\")"
      ],
      "metadata": {
        "id": "CV3FE9V8BO6k"
      },
      "execution_count": null,
      "outputs": []
    },
    {
      "cell_type": "code",
      "source": [
        "# @title Click to see solution\n",
        "\n",
        "# Step 4: Spike count statistics\n",
        "\n",
        "spike_counts = np.array(spike_counts)\n",
        "mean_spikes = np.mean(spike_counts)\n",
        "std_spikes = np.std(spike_counts)\n",
        "cv = std_spikes / mean_spikes if mean_spikes > 0 else np.nan\n",
        "\n",
        "# Print results\n",
        "print(f\"Mean spike count per trial: {mean_spikes:.2f}\")\n",
        "print(f\"Standard deviation of spike count: {std_spikes:.2f}\")\n",
        "print(f\"Coefficient of Variation (CV): {cv:.2f}\")\n"
      ],
      "metadata": {
        "id": "QJJeNtAHAsjV",
        "cellView": "form"
      },
      "execution_count": null,
      "outputs": []
    },
    {
      "cell_type": "markdown",
      "source": [
        "---\n",
        "\n",
        "# **🔍 5. What happens to the neuron spikes when the input strength increases?**\n",
        "\n",
        "Neurons often encode stimulus intensity through changes in their **firing rate** — a concept known as **rate coding**. As the strength of the input increases, neurons typically fire more spikes or fire them more rapidly, allowing downstream neurons to interpret the intensity of the stimulus.\n",
        "\n",
        "\n",
        "<br>\n",
        "\n",
        "📝 **Activity**\n",
        "\n",
        "- Set Spikeling to tonic spiking mode\n",
        "- Apply stimulus '5x_10increase_250msON_150msOFF' and record\n",
        "- Visualize and compare spikes\n",
        "- Compare spike counts across stimulus levels\n",
        "\n",
        "<br>\n",
        "\n",
        "**🎯 Goal:**\n",
        "To understand how neurons encode stimulus intensity by examining how increasing input strength affects their spiking behavior. This reflects a key principle of rate coding, where the number and timing of spikes convey information about stimulus strength in sensory and neural systems."
      ],
      "metadata": {
        "id": "AOpAc43vkIjv"
      }
    },
    {
      "cell_type": "code",
      "source": [
        "# Step 1: Import libraries\n",
        "import pandas as pd\n",
        "import numpy as np\n",
        "import matplotlib.pyplot as plt\n",
        "\n",
        "# Step 2: Load data\n",
        "from google.colab import files\n",
        "uploaded = files.upload()\n",
        "Increase = pd.read_csv('TonicIncrease.csv')"
      ],
      "metadata": {
        "id": "f_4hdOoyt6tJ"
      },
      "execution_count": null,
      "outputs": []
    },
    {
      "cell_type": "code",
      "source": [
        "# Step 3: Trial extraction by stimulus strength\n",
        "\n",
        "sampling_interval = ___      # in ms\n",
        "stim_duration_ms = ___       # stimulus length\n",
        "pre_stim_ms = 50\n",
        "post_stim_ms = 50\n",
        "\n",
        "# Convert time windows into number of samples\n",
        "stim_samples = int(stim_duration_ms / sampling_interval)\n",
        "pre_samples = int(pre_stim_ms / ___)\n",
        "post_samples = int(post_stim_ms / ___)\n",
        "\n",
        "# Find stimulus onset points\n",
        "# Create a Boolean mask for stimulus onset (0 → positive)\n",
        "stim_on_mask = (Increase['Stimulus (%)'].___ == 0) & (Increase['Stimulus (%)'] > 0)\n",
        "\n",
        "# Use .loc to get the onset rows (optional: get just the timestamps or row labels)\n",
        "stim_onsets = Increase.loc[___]\n",
        "stim_strengths = Increase.loc[stim_onsets, 'Stimulus (%)'].values\n",
        "\n",
        "# Extract voltage traces for each unique stimulus strength\n",
        "traces_by_strength = {}\n",
        "for onset, strength in zip(stim_onsets, stim_strengths):\n",
        "    start = ___\n",
        "    end = ___\n",
        "    if start >= 0 and end < len(Increase):\n",
        "        trace = Increase['Spikeling Vm (mV)'].iloc[start:end].values\n",
        "        traces_by_strength[strength] = trace\n",
        "\n",
        "# Create time axis\n",
        "time_axis = np.arange(-pre_samples, stim_samples + post_samples) * sampling_interval"
      ],
      "metadata": {
        "id": "3Dm_fa8uusnH"
      },
      "execution_count": null,
      "outputs": []
    },
    {
      "cell_type": "code",
      "source": [
        "#@title Click to see solution\n",
        "\n",
        "# Step 3: Trial extraction by stimulus strength\n",
        "\n",
        "# Define sampling interval, time window of interest and stimulus duration\n",
        "sampling_interval = 0.1  # ms per sample\n",
        "stim_duration_ms = 250\n",
        "pre_stim_ms = 50\n",
        "post_stim_ms = 50\n",
        "\n",
        "# Convert time windows into the number of samples\n",
        "stim_samples = int(stim_duration_ms / sampling_interval)\n",
        "pre_samples = int(pre_stim_ms / sampling_interval)\n",
        "post_samples = int(post_stim_ms / sampling_interval)\n",
        "\n",
        "# Identify stimulus onsets and strengths (single pulse per strength)\n",
        "stim = Increase['Stimulus (%)'].values\n",
        "stim_onsets = np.where((stim[:-1] == 0) & (stim[1:] > 0))[0] + 1\n",
        "stim_onsets = Increase.index[stim_onsets]\n",
        "\n",
        "stim_strengths = Increase.loc[stim_onsets, 'Stimulus (%)'].values\n",
        "\n",
        "# Extract traces\n",
        "traces_by_strength = {}\n",
        "for onset, strength in zip(stim_onsets, stim_strengths):\n",
        "    start = onset - pre_samples\n",
        "    end = onset + stim_samples + post_samples\n",
        "    if start >= 0 and end < len(Increase):\n",
        "        trace = Increase['Spikeling Vm (mV)'].iloc[start:end].values\n",
        "        traces_by_strength[strength] = trace\n",
        "\n",
        "# Time axis\n",
        "time_axis = np.arange(-pre_samples, stim_samples + post_samples) * sampling_interval\n"
      ],
      "metadata": {
        "id": "yWShsJVblpp7",
        "cellView": "form"
      },
      "execution_count": null,
      "outputs": []
    },
    {
      "cell_type": "code",
      "source": [
        "# Step 4: Plot the responses by stimulus strength\n",
        "\n",
        "# Sort the stimulus strengths\n",
        "sorted_strengths = sorted(___)\n",
        "\n",
        "# Create one subplot per stimulus strength\n",
        "fig, axs = plt.subplots(len(sorted_strengths), 1, figsize=(10, 2 * len(sorted_strengths)), sharex=True)\n",
        "\n",
        "# Loop over each stimulus strength and its corresponding trace\n",
        "for i, strength in enumerate(sorted_strengths):\n",
        "    trace = traces_by_strength[___]\n",
        "    axs[i].plot(___, ___, color='black')  # time_axis, trace\n",
        "    axs[i].axvspan(0, stim_duration_ms, color='orange', alpha=0.2, label='___')\n",
        "    axs[i].set_ylabel(\"___\")               # Vm (mV)\n",
        "    axs[i].set_title(\"Stimulus Strength: {:.1f}\".format(strength))\n",
        "    axs[i].___(___)                        # grid(True)\n",
        "\n",
        "# Label x-axis only on the last subplot\n",
        "axs[-1].set_xlabel(\"___\")                 # Time (ms)\n",
        "\n",
        "# Adjust layout and show the plot\n",
        "plt.___()\n",
        "plt.___()\n"
      ],
      "metadata": {
        "id": "Y_4FyODxvJWQ"
      },
      "execution_count": null,
      "outputs": []
    },
    {
      "cell_type": "code",
      "source": [
        "#@title Click to see solution\n",
        "\n",
        "# Step 4: Plot the responses by stimulus strength\n",
        "\n",
        "# Sort by stimulus strengths\n",
        "sorted_strengths = sorted(traces_by_strength.keys())\n",
        "\n",
        "# Create one subplot per stimulus strength\n",
        "fig, axs = plt.subplots(len(sorted_strengths), 1, figsize=(10, 2 * len(sorted_strengths)), sharex=True)\n",
        "\n",
        "# Loop over each stimulus strength and its corresponding trace\n",
        "for i, strength in enumerate(sorted_strengths):\n",
        "    trace = traces_by_strength[strength]\n",
        "    axs[i].plot(time_axis, trace, color='black')\n",
        "    axs[i].axvspan(0, stim_duration_ms, color='orange', alpha=0.2, label='Stimulus')  # Stimulus onset\n",
        "    axs[i].set_ylabel(\"Vm (mV)\")\n",
        "    axs[i].set_title(f\"Stimulus Strength: {strength:.1f}\")\n",
        "    axs[i].grid\n",
        "\n",
        "\n",
        "# Label x-axis on the bottom plot only\n",
        "axs[-1].set_xlabel(\"Time (ms)\")\n",
        "\n",
        "# Show the figure\n",
        "plt.tight_layout()\n",
        "plt.show()"
      ],
      "metadata": {
        "id": "IbWuKs6qqDaL",
        "cellView": "form"
      },
      "execution_count": null,
      "outputs": []
    },
    {
      "cell_type": "markdown",
      "source": [
        "# **🧠 Questions for Discussion**\n",
        "- Does the neuron fire more spikes when presented with stronger inputs?\n",
        "- Do the spikes occur earlier or change in shape?\n",
        "- Is there a threshold below which the neuron doesn't fire?\n",
        "- Does the neuron show signs of bursting or saturation at high input?"
      ],
      "metadata": {
        "id": "Ch7Twz-7vg06"
      }
    },
    {
      "cell_type": "markdown",
      "source": [
        "---\n",
        "💬 A **tuning curve** is a graph that shows how a neuron's firing rate changes in response to different values of a stimulus.\n",
        "\n",
        "Tuning curves help us understand what a neuron is sensitive to and how it encodes information.\n",
        "\n",
        "Let's plot the tuning curve for our neuron!\n",
        "\n",
        "---"
      ],
      "metadata": {
        "id": "GmNj_V4GwMti"
      }
    },
    {
      "cell_type": "code",
      "source": [
        "# Step 1: Count spikes per stimulus strength\n",
        "\n",
        "# Define threshold for spike detection\n",
        "spike_threshold = ___   # e.g., -20 mV\n",
        "\n",
        "# Store spike counts\n",
        "spike_counts = []\n",
        "\n",
        "# Loop through each stimulus strength\n",
        "for strength in ___:\n",
        "    trace = traces_by_strength[___]\n",
        "\n",
        "    # Find threshold crossings\n",
        "    above_thresh = trace > spike_threshold\n",
        "    spike_indices = np.where((above_thresh[:-1] == False) & (above_thresh[1:] == True))[0]\n",
        "\n",
        "    # Keep spikes that occur during the stimulus window\n",
        "    spikes_in_window = [i for i in spike_indices if 0 <= time_axis[i] <= ___]  # stim_duration_ms\n",
        "    spike_counts.append(___)"
      ],
      "metadata": {
        "id": "dPFfAIhvwcNx"
      },
      "execution_count": null,
      "outputs": []
    },
    {
      "cell_type": "code",
      "source": [
        "# @title Click to see solution\n",
        "\n",
        "# Step 1: Count spikes per stimulus strength\n",
        "\n",
        "# Define threshold for spike detection\n",
        "spike_threshold = -20  # mV\n",
        "\n",
        "# Store spike counts per stimulus strength\n",
        "spike_counts = []\n",
        "\n",
        "# Loop over traces\n",
        "for strength in sorted_strengths:\n",
        "    trace = traces_by_strength[strength]\n",
        "\n",
        "    # Find threshold crossings\n",
        "    above_thresh = trace > spike_threshold\n",
        "    spike_indices = np.where((above_thresh[:-1] == False) & (above_thresh[1:] == True))[0]\n",
        "\n",
        "    # Keep spikes that occur during the stimulus window\n",
        "    spikes_in_window = [i for i in spike_indices if 0 <= time_axis[i] <= stim_duration_ms]\n",
        "    spike_counts.append(len(spikes_in_window))\n"
      ],
      "metadata": {
        "collapsed": true,
        "id": "f8PPo_W0w8rl",
        "cellView": "form"
      },
      "execution_count": null,
      "outputs": []
    },
    {
      "cell_type": "code",
      "source": [
        "# Step 2: Plot the tuning curve\n",
        "\n",
        "plt.figure(figsize=(6, 4))\n",
        "plt.plot(___, ___, marker='o', color='purple')\n",
        "plt.title(\"___\")\n",
        "plt.xlabel(\"___\")\n",
        "plt.ylabel(\"___\")\n",
        "plt.grid(True)\n",
        "plt.tight_layout()\n",
        "plt.show()\n"
      ],
      "metadata": {
        "id": "RPOjoEJ2yRiW"
      },
      "execution_count": null,
      "outputs": []
    },
    {
      "cell_type": "code",
      "source": [
        "#@title Click to see solution\n",
        "\n",
        "# Step 2: Plot tuning curve\n",
        "plt.figure(figsize=(6, 4))\n",
        "plt.plot(sorted_strengths, spike_counts, marker='o', color='purple')\n",
        "plt.title(\"Tuning Curve\")\n",
        "plt.xlabel(\"Stimulus Strength (a.u.)\")\n",
        "plt.ylabel(\"Spike Count\")\n",
        "plt.grid(True)\n",
        "plt.tight_layout()\n",
        "plt.show()"
      ],
      "metadata": {
        "cellView": "form",
        "id": "ZnnTBDZwyJVR"
      },
      "execution_count": null,
      "outputs": []
    },
    {
      "cell_type": "markdown",
      "source": [
        "---\n",
        "\n",
        "# **🔍 6. Do all neurons respond in the same way to different stimuli?**\n",
        "\n",
        "Neurons are often **selectively tuned** to particular features of a stimulus, such as intensity, frequency, or duration. This **tuning** means that different neurons can respond more strongly to some stimuli than others, forming the basis of **sensory coding** in the brain.\n",
        "\n",
        "\n",
        "<br>\n",
        "\n",
        "📝 **Activity**\n",
        "\n",
        "- Set Spikeling to tonic spiking mode\n",
        "- Load stimulus '5x_10increase_250msON_150msOFF'\n",
        "- Record\n",
        "- Change to neurons Tonic Bursting and Integrator and repeat\n",
        "- Visualize the tuning curves for these neurons in the same plot\n",
        "\n",
        "<br>\n",
        "\n",
        "**🎯 Goal**\n",
        "\n",
        "To explore how different neurons can be selectively tuned to specific stimulus features or intensities. By constructing and comparing tuning curves, you'll learn how neurons in the brain are specialized to detect particular aspects of the sensory environment and how this forms the basis of sensory coding.\n"
      ],
      "metadata": {
        "id": "r3pzk01g4Fqf"
      }
    },
    {
      "cell_type": "code",
      "source": [
        "# Import libraries\n",
        "import pandas as pd\n",
        "import numpy as np\n",
        "import matplotlib.pyplot as plt\n",
        "\n",
        "# Step 1: Upload datasets\n",
        "from google.colab import files\n",
        "uploaded = files.upload()\n",
        "\n",
        "# Load the three CSV files\n",
        "neuron_files = {\n",
        "    \"Tonic Spiking\": pd.___,\n",
        "    \"Tonic Bursting\": pd.___,\n",
        "    \"Integrator\": pd.___\n",
        "}"
      ],
      "metadata": {
        "id": "tFUUbeDP4nxN"
      },
      "execution_count": null,
      "outputs": []
    },
    {
      "cell_type": "code",
      "source": [
        "wefcd\n",
        "# Step 2: Define sampling parameters\n",
        "sampling_interval =\n",
        "stim_duration =\n",
        "stim_length =\n",
        "\n",
        "\n",
        "# Step 3: Function to get spike counts for each stimulus\n",
        "def get_spike_counts(df, threshold=___):\n",
        "    # Create a Boolean mask where stimulus turns ON (from 0 to >0)\n",
        "    stim_on_mask =\n",
        "\n",
        "    # Use the mask to get the onset indices and values\n",
        "    stim_onsets =\n",
        "    stim_values =\n",
        "\n",
        "    # Count spikes per stimulus step\n",
        "    for onset in stim_onsets:\n",
        "        # a) Define the window to extract voltage during stimulation\n",
        "        start = ___            # stimulus onset\n",
        "        end = ___              # end of stimulus window\n",
        "\n",
        "        # b) Extract the voltage trace for that window\n",
        "        segment = df['Spikeling Vm (mV)'].iloc[___:___]\n",
        "\n",
        "        # c) Detect spikes: threshold crossing from below\n",
        "        #    Hint: spike = value goes from below threshold to above\n",
        "        spike_mask = (segment > threshold) & (segment.shift(1) ___ threshold)\n",
        "\n",
        "        # d) Count how many spikes occurred\n",
        "        spikes = spike_mask.___\n",
        "\n",
        "        # e) Store the result\n",
        "        spike_counts.append(spikes)\n",
        "\n",
        "    return stim_values, spike_counts"
      ],
      "metadata": {
        "id": "FY2Pijwmhvzh"
      },
      "execution_count": null,
      "outputs": []
    },
    {
      "cell_type": "code",
      "source": [
        "#@title Click to see solution\n",
        "\n",
        "# Import libraries\n",
        "import pandas as pd\n",
        "import numpy as np\n",
        "import matplotlib.pyplot as plt\n",
        "\n",
        "# Upload multiple neuron CSV files\n",
        "uploaded = files.upload()\n",
        "\n",
        "# Define sampling parameters\n",
        "sampling_interval = 0.1  # ms\n",
        "stim_duration = 250   # stimulus step duration in ms\n",
        "stim_length = int(stim_duration / sampling_interval)  # samples per step\n",
        "\n",
        "# Load the three CSV files\n",
        "neuron_files = {\n",
        "    \"Tonic Spiking\": pd.read_csv(\"TonicSpikeSteps.csv\"),\n",
        "    \"Tonic Bursting\": pd.read_csv(\"TonicBurstSteps.csv\"),\n",
        "    \"Integrator\": pd.read_csv(\"IntegratorSteps.csv\")\n",
        "}\n",
        "\n",
        "# Function to extract spike counts per stimulus\n",
        "def get_spike_counts(df, threshold=-20):\n",
        "    # Create a Boolean mask where stimulus turns ON (from 0 to >0)\n",
        "    stim_on_mask = (df['Stimulus (%)'].shift(1) == 0) & (df['Stimulus (%)'] > 0)\n",
        "\n",
        "    # Use the mask to get the onset indices and values\n",
        "    stim_onsets = df.loc[stim_on_mask].index\n",
        "    stim_values = df.loc[stim_onsets, 'Stimulus (%)'].values\n",
        "\n",
        "    spike_counts = []\n",
        "    for onset in stim_onsets:\n",
        "        start = onset\n",
        "        end = onset + stim_length\n",
        "        segment = df['Spikeling Vm (mV)'].iloc[start : end]\n",
        "        spike_mask = (segment > threshold) & (segment.shift(1) <= threshold)\n",
        "        spikes = spike_mask.sum()\n",
        "        spike_counts.append(spikes)\n",
        "\n",
        "    return stim_values, spike_counts\n"
      ],
      "metadata": {
        "id": "GPWaVOP9HU_t",
        "cellView": "form"
      },
      "execution_count": null,
      "outputs": []
    },
    {
      "cell_type": "code",
      "source": [
        "# Step 4: Plotting tuning curves for each neuron type\n",
        "plt.figure(figsize=(8, 5))\n",
        "for name, df in neuron_files.items():\n",
        "    stim_values, spike_counts = get_spike_counts(df)\n",
        "    plt.plot(stim_values, spike_counts, '-o', label=name)\n",
        "\n",
        "# Label the plot\n",
        "plt.title(\"___\")         # e.g., Tuning Curves\n",
        "plt.xlabel(\"___\")        # e.g., Stimulus Strength a.u.\n",
        "plt.ylabel(\"___\")        # e.g., Spike Count\n",
        "plt.xticks(stim_values)\n",
        "plt.legend()\n",
        "plt.grid(True)\n",
        "plt.tight_layout()\n",
        "plt.show()"
      ],
      "metadata": {
        "id": "7tnbTPynB0aJ"
      },
      "execution_count": null,
      "outputs": []
    },
    {
      "cell_type": "code",
      "source": [
        "# @title Click to see solution\n",
        "\n",
        "# Plot tuning curves\n",
        "plt.figure(figsize=(8, 5))\n",
        "for name, df in neuron_files.items():\n",
        "    stim_values, spike_counts = get_spike_counts(df)\n",
        "    plt.plot(stim_values, spike_counts, '-o', label=name)\n",
        "\n",
        "plt.title(\"Tuning Curves\")\n",
        "plt.xlabel(\"Stimulus Strength a.u.\")\n",
        "plt.ylabel(\"Spike Count\")\n",
        "plt.xticks(stim_values)\n",
        "plt.legend()\n",
        "plt.grid(True)\n",
        "plt.tight_layout()\n",
        "plt.show()"
      ],
      "metadata": {
        "id": "C_4Xz5HvBy76",
        "cellView": "form"
      },
      "execution_count": null,
      "outputs": []
    },
    {
      "cell_type": "markdown",
      "source": [
        " # **🧠 Questions for Discussion**\n",
        "\n",
        "- Which neuron starts firing at the lowest stimulus?\n",
        "- Which one increases its firing rate most steeply?\n",
        "- Does any neuron plateau or decrease after a certain point?\n",
        "- Why might the brain need neurons that respond differently to the same stimulus?"
      ],
      "metadata": {
        "id": "lRL715gfZ-WT"
      }
    },
    {
      "cell_type": "markdown",
      "source": [
        "---\n",
        "# **🔍 7. Can we use the activity of multiple neurons to decode what stimulus was presented?**\n",
        "\n",
        "The brain often relies on **population coding** — reading out activity from many neurons at once — to make sense of the world. Each neuron may respond differently to a stimulus, but **together**, their combined activity forms a unique pattern that can be used to **decode** what stimulus was presented.\n",
        "\n",
        "\n",
        "\n",
        "<br>\n",
        "\n",
        "📝 **Activity**\n",
        "\n",
        "You've already calculated the tuning curves for three neurons that respond differently to the same set of stimuli. Now imagine you’re given a new trial, but you don’t know which stimulus was presented. Instead, you're told how many spikes each neuron fired in response:\n",
        "\n",
        "- Tonic Spiking neuron: 30 spikes\n",
        "- Tonic Bursting neuron: 70 spikes\n",
        "- Integrator neuron: 125 spikes\n",
        "\n",
        "<br>\n",
        "\n",
        "Use the tuning curves you've previously computed to infer which stimulus was most likely applied. Look for the stimulus that best matches these spike counts across all three neurons.\n",
        "\n",
        "Tip: You can do this visually by comparing spike counts to tuning curves, or compute the **Euclidean distance** between the observed spike counts and each point on the tuning curves to find the best match.\n",
        "\n",
        "<br>\n",
        "\n",
        "**🎯 Goal**\n",
        "\n",
        "To understand how the brain decodes information from populations of neurons, rather than single cells. By analyzing patterns of activity across multiple neurons, you'll learn how the nervous system can accurately infer the identity or intensity of a stimulus—highlighting the principles of population coding and distributed representation in neural circuits."
      ],
      "metadata": {
        "id": "81jgeB813Hkh"
      }
    },
    {
      "cell_type": "code",
      "source": [
        "import numpy as np\n",
        "\n",
        "# Known spike counts for the unknown stimulus (provided)\n",
        "unknown_response =\n",
        "\n",
        "# Set the spike detection threshold\n",
        "threshold =\n",
        "\n",
        "# Initialize a dictionary to hold spike counts for each neuron\n",
        "spike_counts =\n",
        "\n",
        "# For each neuron, count the number of spikes during each stimulus trial\n",
        "\n",
        "    # Spike detection: count upward threshold crossings\n",
        "\n",
        "\n",
        "# Create the tuning matrix\n",
        "# Each row = a known stimulus\n",
        "# Each column = a neuron's average spike count for that stimulus\n",
        "# We'll use the neurons in a fixed order\n",
        "neuron_order =\n",
        "tuning_matrix =\n",
        "\n",
        "# Create the response vector for the unknown stimulus\n",
        "response_vector =\n",
        "\n",
        "# Calculate the distance between the unknown response and each known stimulus\n",
        "# (using Euclidean distance)\n",
        "distances =\n",
        "\n",
        "# Find the index of the stimulus with the smallest distance (closest match)\n",
        "best_match_idx =\n",
        "\n",
        "# Decode the stimulus value (e.g., 10%, 20%, etc.)\n",
        "decoded_stimulus =\n",
        "\n",
        "# Print the decoded result\n",
        "print()"
      ],
      "metadata": {
        "id": "CRxKmQcSZeT3"
      },
      "execution_count": null,
      "outputs": []
    },
    {
      "cell_type": "code",
      "source": [
        "# @title Click to see solution\n",
        "\n",
        "import numpy as np\n",
        "\n",
        "# Known spike counts for the unknown stimulus (provided)\n",
        "unknown_response = {\"Tonic Spiking\": 30, \"Tonic Bursting\": 70, \"Integrator\": 125}\n",
        "\n",
        "# Set the spike detection threshold\n",
        "threshold= -20\n",
        "\n",
        "# Initialize a dictionary to hold spike counts for each neuron\n",
        "spike_counts = {name: [] for name in neuron_files}\n",
        "\n",
        "# For each neuron, count the number of spikes during each stimulus trial\n",
        "for name, df in neuron_files.items():\n",
        "    for onset in stim_onsets:\n",
        "        start = onset\n",
        "        end = onset + stim_length\n",
        "        vm_trace = df['Spikeling Vm (mV)'].iloc[start:end].values\n",
        "\n",
        "        # Spike detection: count upward threshold crossings\n",
        "        spike_indices = np.where((vm_trace[1:] > threshold) & (vm_trace[:-1] <= threshold))[0]\n",
        "        spike_counts[name].append(len(spike_indices))\n",
        "\n",
        "\n",
        "# Convert tuning curves to a matrix\n",
        "tuning_matrix = np.array([spike_counts[name] for name in [\"Tonic Spiking\", \"Tonic Bursting\", \"Integrator\"]]).T\n",
        "\n",
        "# Unknown response vector\n",
        "response_vector = np.array([unknown_response[\"Tonic Spiking\"],\n",
        "                            unknown_response[\"Tonic Bursting\"],\n",
        "                            unknown_response[\"Integrator\"]])\n",
        "\n",
        "# Calculate Euclidean distance to each known stimulus\n",
        "distances = np.linalg.norm(tuning_matrix - response_vector, axis=1)\n",
        "\n",
        "# Find closest match\n",
        "best_match_idx = np.argmin(distances)\n",
        "decoded_stimulus = stim_values[best_match_idx]\n",
        "\n",
        "print(f\"🔍 Decoded Stimulus: {decoded_stimulus}\")\n"
      ],
      "metadata": {
        "id": "27L4JRWa7hSn",
        "cellView": "form"
      },
      "execution_count": null,
      "outputs": []
    },
    {
      "cell_type": "markdown",
      "source": [
        " # **🧠 Questions for Discussion**\n",
        "\n",
        "- What does this decoding method assume about the neurons?\n",
        "- Could different combinations of spike counts lead to the same decoded stimulus?\n",
        "- How would noise or variability in spike count affect decoding?\n",
        "- Would this method work equally reliably with a large population of neurons?"
      ],
      "metadata": {
        "id": "c9zo0-uRZvyi"
      }
    },
    {
      "cell_type": "markdown",
      "source": [
        "---\n",
        "#**About the author**\n",
        "##**Artemis Koumoundourou**\n",
        "\n",
        "- Post-doctoral researcher at the [VIB-KU Leuven Center for Brain & Disease Research](https://cbd.sites.vib.be/en#/) in Leuven, Belgium. I study how the molecular composition of synapses drives circuit connectivity and specification at the [Lab of Synapse Biology](https://dewitlab.sites.vib.be/en).\n",
        "- Executive Director at [TReND in Africa](https://trendinafrica.org/).\n",
        "- Links: [Bluesky](https://bsky.app/profile/akoumoundourou.bsky.social), [LinkedIn](https://www.linkedin.com/in/artemis-koumoundourou-6b77a284/), [ORCID](https://orcid.org/0000-0002-8917-5717)\n",
        "- Feel free to contact me: artemis@trendinafrica.org"
      ],
      "metadata": {
        "id": "B6LvB767fYzi"
      }
    }
  ]
}